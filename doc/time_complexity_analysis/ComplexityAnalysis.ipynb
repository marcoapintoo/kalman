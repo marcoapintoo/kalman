{
 "cells": [
  {
   "cell_type": "markdown",
   "metadata": {},
   "source": [
    "# Time complexity"
   ]
  },
  {
   "cell_type": "code",
   "execution_count": 5,
   "metadata": {},
   "outputs": [],
   "source": [
    "import os\n",
    "import sys\n",
    "import time\n",
    "import gc\n",
    "import psutil\n",
    "import pickle\n",
    "import numpy as np\n",
    "import matplotlib.pyplot as plt\n",
    "import seaborn as sns\n",
    "plt.style.use(\"ggplot\")\n",
    "#sns.set_style(\"dark\")\n",
    "\n",
    "sys.path.extend([os.getcwd() + \"/../\", os.getcwd() + \"/../../bin/\", os.getcwd() + \"/../../tests/python/module\", os.getcwd() + \"/../../tests/python/\"])\n",
    "import state_space_model\n",
    "from benchmark_performance import *\n",
    "\n",
    "current_memory = lambda: psutil.Process(os.getpid()).memory_info().rss\n",
    "current_time = lambda: time.time()\n",
    "\n",
    "plt.rcParams[\"figure.figsize\"] = (7.5, 5)"
   ]
  },
  {
   "cell_type": "code",
   "execution_count": 6,
   "metadata": {},
   "outputs": [],
   "source": [
    "\n",
    "def test_algorithm(method, obs_dim, lat_dim, T):\n",
    "    Y = np.random.randn(obs_dim, T)\n",
    "    t0 = current_time()\n",
    "    m0 = current_memory()\n",
    "    ssm.estimate(\n",
    "            method, \"F H Q R X0 P0\", Y,\n",
    "            obs_dim, lat_dim, T,\n",
    "            F=None, H=None, \n",
    "            Q=None, R=None, \n",
    "            X0=None, P0=None, \n",
    "            min_iterations=1,\n",
    "            max_iterations=1, \n",
    "            min_improvement=0.01,\n",
    "            sample_size=3000,\n",
    "            population_size=100,\n",
    "            penalty_low_variance_Q=0.1,\n",
    "            penalty_low_variance_R=0.1,\n",
    "            penalty_low_variance_P0=0.1,\n",
    "            penalty_low_std_mean_ratio=0.1,\n",
    "            penalty_inestable_system=10.0,\n",
    "            penalty_mse=100,#1e-1,\n",
    "            penalty_roughness_X=0.1,#0.5,\n",
    "            penalty_roughness_Y=0.1,#0.5,\n",
    "            max_length_loglikelihood=1000,\n",
    "            return_details=True\n",
    "    )\n",
    "    return (current_time() - t0, current_memory() - m0)\n",
    "\n",
    "def test_params(method=\"PSO\", obs_dim_range=[1, 5, 10, 15, 20], lat_dim_range=[1, 5, 10, 15, 20], T_range=[50, 100, 200]):\n",
    "    data = []\n",
    "    for obs_dim in obs_dim_range:\n",
    "        print(\"+\", obs_dim)\n",
    "        for lat_dim in [v for v in lat_dim_range if v <= obs_dim]:\n",
    "            print(\"+---\", lat_dim, end=\": \")\n",
    "            for T in T_range:\n",
    "                print(T, end=\" \")\n",
    "                t, m = test_algorithm(method, obs_dim, lat_dim, T)\n",
    "                data.append([obs_dim, lat_dim, T, t, m])\n",
    "            print()\n",
    "    data = np.array(data)\n",
    "    #for k, (obs_dim, lat_dim, T, _, _) in enumerate(data):\n",
    "    #    data[k, 3: ] = test_algorithm(method, obs_dim, lat_dim, T)\n",
    "    return data\n",
    "\n",
    "def lse(X, Y, Xs=None, p=1):\n",
    "    Xs = Xs if Xs is not None else X.copy() \n",
    "    X = X.reshape(-1, 1)\n",
    "    for k in range(2, p + 1):\n",
    "        X = np.insert(X, 0, values=X[:, -1] ** k, axis=1)\n",
    "    X = np.insert(X, 0, values=1, axis=1)\n",
    "    Xs = Xs.reshape(-1, 1)\n",
    "    for k in range(2, p + 1):\n",
    "        Xs = np.insert(Xs, 0, values=Xs[:, -1] ** k, axis=1)\n",
    "    Xs = np.insert(Xs, 0, values=1, axis=1)\n",
    "    Y = Y.reshape(-1, 1)\n",
    "    beta = np.linalg.pinv(X.T.dot(X)).dot(X.T).dot(Y)\n",
    "    print(\"Beta: \", beta.ravel())\n",
    "    return Xs.dot(beta).ravel()\n"
   ]
  },
  {
   "cell_type": "markdown",
   "metadata": {},
   "source": [
    "# I. PSO"
   ]
  },
  {
   "cell_type": "code",
   "execution_count": 7,
   "metadata": {},
   "outputs": [
    {
     "name": "stdout",
     "output_type": "stream",
     "text": [
      "Regression coefficients:\n",
      "o: 1.1 +/- 0.72\n",
      "o l: 0.12 +/- 0.015\n",
      "o^2: -0.11 +/- 0.0043\n",
      "l^2: -0.036 +/- 0.0072\n",
      "T: 0.024 +/- 0.013\n"
     ]
    }
   ],
   "source": [
    "method = \"PSO\"\n",
    "A = [1, 5, 10, 20, 30]\n",
    "B = [1, 5, 10, 20, 30]\n",
    "C = [10, 20, 50, 100, 500]\n",
    "#C = [10, 20, 50]\n",
    "fname = \"speed_mem_results_pso.db\"\n",
    "if os.path.exists(fname):\n",
    "    with open(fname, \"rb\") as f:\n",
    "        R = pickle.load(f)\n",
    "else:\n",
    "    R = test_params(method, obs_dim_range=A, lat_dim_range=B, T_range=C).T\n",
    "    with open(fname, \"wb\") as f:\n",
    "        pickle.dump(R, f)\n",
    "\n",
    "A1, B1, C1, T1, M1 = R\n",
    "A1, B1, C1, T1, M1 = [v.reshape(-1, 1) for v in (A1, B1, C1, T1, M1)]\n",
    "norm = lambda A1: (A1 - A1.mean()) / A1.std()\n",
    "#A1, B1, C1 = norm(A1), norm(B1), norm(C1)\n",
    "\n",
    "names = [\n",
    "    \"o^3\", \"l^3\", \"T^3\", \n",
    "    \"o^2\", \"o\",\n",
    "    \"l^2\", \"l\",\n",
    "    \"T^2\", \"T\",\n",
    "    \"o^2 l\", \"o l\",\n",
    "    \"o^2 T\", \"o T\",\n",
    "    \"l^2 o\",\n",
    "    \"l^2 T\", \"l T\",\n",
    "    \"T^2 o\",\n",
    "    \"T^2 l\",\n",
    "]\n",
    "Z = np.hstack((\n",
    "    A1 ** 3, B1 ** 3, C1 ** 3, \n",
    "    A1 ** 2, A1, \n",
    "    B1 ** 2, B1, \n",
    "    C1 ** 2, C1, \n",
    "    A1 ** 2 * B1, A1 * B1, \n",
    "    A1 ** 2 * C1, A1 * C1, \n",
    "    B1 ** 2 * A1,\n",
    "    B1 ** 2 * C1, B1 * C1, \n",
    "    C1 ** 2 * A1,\n",
    "    C1 ** 2 * B1,\n",
    "    np.ones(A1.shape)\n",
    ")).astype(\"f8\")\n",
    "beta = np.linalg.inv(Z.T.dot(Z)).dot(Z.T).dot(T1)\n",
    "var_beta = np.sum((T1 - Z.dot(beta)) ** 2) / (T1.shape[0] - Z.shape[1]) * np.linalg.inv(Z.T.dot(Z))\n",
    "print(\"Regression coefficients:\")\n",
    "print(\"\\n\".join([\n",
    "    \"{0}: {1:.2g} +/- {2:.2g}\".format(n, b, e)\n",
    "    for n, b, e in sorted(zip(names, beta.ravel(), np.diag(var_beta).ravel()), key=lambda r: np.abs(r[1]), reverse=True)\n",
    "    if np.abs(b) - e > 0.01\n",
    "]))\n"
   ]
  },
  {
   "cell_type": "code",
   "execution_count": 8,
   "metadata": {},
   "outputs": [
    {
     "name": "stdout",
     "output_type": "stream",
     "text": [
      "Regression coefficients:\n",
      "l: 0.8 +/- 0.62\n",
      "o l: -0.047 +/- 0.0091\n",
      "T: 0.038 +/- 0.0025\n",
      "o^2: 0.013 +/- 0.00022\n"
     ]
    }
   ],
   "source": [
    "names = [\n",
    "    #\"o^3\", \"l^3\", \"T^3\", \n",
    "    \"o^2\", \"o\",\n",
    "    \"l^2\", \"l\",\n",
    "    \"T^2\", \"T\",\n",
    "    \"o^2 l\", \"o l\",\n",
    "    \"o^2 T\", \"o T\",\n",
    "    \"l^2 o\",\n",
    "    \"l^2 T\", \"l T\",\n",
    "    \"T^2 o\",\n",
    "    \"T^2 l\",\n",
    "]\n",
    "Z = np.hstack((\n",
    "    #A1 ** 3, B1 ** 3, C1 ** 3, \n",
    "    A1 ** 2, A1, \n",
    "    B1 ** 2, B1, \n",
    "    C1 ** 2, C1, \n",
    "    A1 ** 2 * B1, A1 * B1, \n",
    "    A1 ** 2 * C1, A1 * C1, \n",
    "    B1 ** 2 * A1,\n",
    "    B1 ** 2 * C1, B1 * C1, \n",
    "    C1 ** 2 * A1,\n",
    "    C1 ** 2 * B1,\n",
    "    np.ones(A1.shape)\n",
    ")).astype(\"f8\")\n",
    "beta = np.linalg.inv(Z.T.dot(Z)).dot(Z.T).dot(T1)\n",
    "var_beta = np.sum((T1 - Z.dot(beta)) ** 2) / (T1.shape[0] - Z.shape[1]) * np.linalg.inv(Z.T.dot(Z))\n",
    "print(\"Regression coefficients:\")\n",
    "print(\"\\n\".join([\n",
    "    \"{0}: {1:.2g} +/- {2:.2g}\".format(n, b, e)\n",
    "    for n, b, e in sorted(zip(names, beta.ravel(), np.diag(var_beta).ravel()), key=lambda r: np.abs(r[1]), reverse=True)\n",
    "    if np.abs(b) - e > 0.01\n",
    "]))\n"
   ]
  },
  {
   "cell_type": "markdown",
   "metadata": {},
   "source": [
    "Therefore, it can be seen that the complexity is\n",
    "$$\n",
    "O\\left(\n",
    "    o ^ 2 + l ^ 2 + T\n",
    "\\right)\n",
    "$$"
   ]
  },
  {
   "cell_type": "code",
   "execution_count": 9,
   "metadata": {},
   "outputs": [
    {
     "data": {
      "text/plain": [
       "[<matplotlib.lines.Line2D at 0x27f913559e8>]"
      ]
     },
     "execution_count": 9,
     "metadata": {},
     "output_type": "execute_result"
    },
    {
     "data": {
      "image/png": "[encoded data removed]",
      "text/plain": [
       "<Figure size 540x360 with 1 Axes>"
      ]
     },
     "metadata": {},
     "output_type": "display_data"
    }
   ],
   "source": [
    "plt.rcParams[\"figure.figsize\"] = (7.5, 5)\n",
    "cond  = np.where((A1 == 30) * (B1 == 30))\n",
    "A2, B2, C2, T2 = A1[cond], B1[cond], C1[cond], T1[cond]\n",
    "plt.plot(C2, T2, \"o\")\n",
    "plt.plot(C2, T2, \"-\")"
   ]
  },
  {
   "cell_type": "code",
   "execution_count": 10,
   "metadata": {},
   "outputs": [
    {
     "data": {
      "text/plain": [
       "[<matplotlib.lines.Line2D at 0x27fa04a9a20>]"
      ]
     },
     "execution_count": 10,
     "metadata": {},
     "output_type": "execute_result"
    },
    {
     "data": {
      "image/png": "[encoded data removed]",
      "text/plain": [
       "<Figure size 540x360 with 1 Axes>"
      ]
     },
     "metadata": {},
     "output_type": "display_data"
    }
   ],
   "source": [
    "plt.rcParams[\"figure.figsize\"] = (7.5, 5)\n",
    "cond  = np.where((A1 == 20) * (C1 ==500))\n",
    "A2, B2, C2, T2 = A1[cond], B1[cond], C1[cond], T1[cond]\n",
    "plt.plot(B2, T2, \"o\")\n",
    "plt.plot(B2, T2, \"-\")"
   ]
  },
  {
   "cell_type": "code",
   "execution_count": 11,
   "metadata": {},
   "outputs": [
    {
     "data": {
      "text/plain": [
       "[<matplotlib.lines.Line2D at 0x27fa14efc50>]"
      ]
     },
     "execution_count": 11,
     "metadata": {},
     "output_type": "execute_result"
    },
    {
     "data": {
      "image/png": "[encoded data removed]",
      "text/plain": [
       "<Figure size 540x360 with 1 Axes>"
      ]
     },
     "metadata": {},
     "output_type": "display_data"
    }
   ],
   "source": [
    "plt.rcParams[\"figure.figsize\"] = (7.5, 5)\n",
    "cond  = np.where((B1 == 5) * (C1 == 500))\n",
    "A2, B2, C2, T2 = A1[cond], B1[cond], C1[cond], T1[cond]\n",
    "plt.plot(A2, T2, \"o\")\n",
    "plt.plot(A2, T2, \"-\")"
   ]
  },
  {
   "cell_type": "markdown",
   "metadata": {},
   "source": [
    "# II. EM"
   ]
  },
  {
   "cell_type": "code",
   "execution_count": 12,
   "metadata": {},
   "outputs": [
    {
     "name": "stdout",
     "output_type": "stream",
     "text": [
      "Regression coefficients:\n",
      "l: 0.013 +/- 0.00013\n",
      "o: -0.0047 +/- 0.00011\n",
      "o l: -0.0018 +/- 2.4e-06\n",
      "T: -0.0018 +/- 2e-06\n"
     ]
    }
   ],
   "source": [
    "method = \"EM\"\n",
    "A = [1, 5, 10, 20, 30]\n",
    "B = [1, 5, 10, 20, 30]\n",
    "C = [10, 20, 50, 100, 500]\n",
    "#C = [10, 20, 50]\n",
    "fname = \"speed_mem_results_em.db\"\n",
    "if os.path.exists(fname):\n",
    "    with open(fname, \"rb\") as f:\n",
    "        R = pickle.load(f)\n",
    "else:\n",
    "    R = test_params(method, obs_dim_range=A, lat_dim_range=B, T_range=C).T\n",
    "    with open(fname, \"wb\") as f:\n",
    "        pickle.dump(R, f)\n",
    "\n",
    "A1, B1, C1, T1, M1 = R\n",
    "A1, B1, C1, T1, M1 = [v.reshape(-1, 1) for v in (A1, B1, C1, T1, M1)]\n",
    "norm = lambda A1: (A1 - A1.mean()) / A1.std()\n",
    "#A1, B1, C1 = norm(A1), norm(B1), norm(C1)\n",
    "\n",
    "names = [\n",
    "    \"o^3\", \"l^3\", \"T^3\", \n",
    "    \"o^2\", \"o\",\n",
    "    \"l^2\", \"l\",\n",
    "    \"T^2\", \"T\",\n",
    "    \"o^2 l\", \"o l\",\n",
    "    \"o^2 T\", \"o T\",\n",
    "    \"l^2 o\",\n",
    "    \"l^2 T\", \"l T\",\n",
    "    \"T^2 o\",\n",
    "    \"T^2 l\",\n",
    "]\n",
    "Z = np.hstack((\n",
    "    A1 ** 3, B1 ** 3, C1 ** 3, \n",
    "    A1 ** 2, A1, \n",
    "    B1 ** 2, B1, \n",
    "    C1 ** 2, C1, \n",
    "    A1 ** 2 * B1, A1 * B1, \n",
    "    A1 ** 2 * C1, A1 * C1, \n",
    "    B1 ** 2 * A1,\n",
    "    B1 ** 2 * C1, B1 * C1, \n",
    "    C1 ** 2 * A1,\n",
    "    C1 ** 2 * B1,\n",
    "    np.ones(A1.shape)\n",
    ")).astype(\"f8\")\n",
    "beta = np.linalg.inv(Z.T.dot(Z)).dot(Z.T).dot(T1)\n",
    "var_beta = np.sum((T1 - Z.dot(beta)) ** 2) / (T1.shape[0] - Z.shape[1]) * np.linalg.inv(Z.T.dot(Z))\n",
    "print(\"Regression coefficients:\")\n",
    "print(\"\\n\".join([\n",
    "    \"{0}: {1:.2g} +/- {2:.2g}\".format(n, b, e)\n",
    "    for n, b, e in sorted(zip(names, beta.ravel(), np.diag(var_beta).ravel()), key=lambda r: np.abs(r[1]), reverse=True)\n",
    "    if np.abs(b) - e > 0.001\n",
    "]))\n"
   ]
  },
  {
   "cell_type": "markdown",
   "metadata": {},
   "source": [
    "Therefore, it can be seen that the complexity is\n",
    "$$\n",
    "O\\left(\n",
    "    o + l + T\n",
    "\\right)\n",
    "$$"
   ]
  },
  {
   "cell_type": "markdown",
   "metadata": {},
   "source": [
    "# III. LSE+PSO"
   ]
  },
  {
   "cell_type": "code",
   "execution_count": 13,
   "metadata": {},
   "outputs": [
    {
     "name": "stdout",
     "output_type": "stream",
     "text": [
      "Regression coefficients:\n",
      "l^2: 0.48 +/- 0.037\n",
      "o l: -0.28 +/- 0.049\n",
      "l T: 0.025 +/- 6.8e-05\n",
      "o^2: -0.02 +/- 0.0012\n",
      "o T: -0.018 +/- 5.2e-05\n",
      "l^2 o: -0.015 +/- 4.4e-05\n",
      "o^2 l: 0.011 +/- 4.9e-05\n"
     ]
    }
   ],
   "source": [
    "method = \"LSE+PSO\"\n",
    "A = [1, 5, 10, 20, 30]\n",
    "B = [1, 5, 10, 20, 30]\n",
    "C = [10, 20, 50, 100, 500]\n",
    "#C = [10, 20, 50]\n",
    "fname = \"speed_mem_results_lse_pso.db\"\n",
    "if os.path.exists(fname):\n",
    "    with open(fname, \"rb\") as f:\n",
    "        R = pickle.load(f)\n",
    "else:\n",
    "    R = test_params(method, obs_dim_range=A, lat_dim_range=B, T_range=C).T\n",
    "    with open(fname, \"wb\") as f:\n",
    "        pickle.dump(R, f)\n",
    "\n",
    "A1, B1, C1, T1, M1 = R\n",
    "A1, B1, C1, T1, M1 = [v.reshape(-1, 1) for v in (A1, B1, C1, T1, M1)]\n",
    "norm = lambda A1: (A1 - A1.mean()) / A1.std()\n",
    "#A1, B1, C1 = norm(A1), norm(B1), norm(C1)\n",
    "\n",
    "names = [\n",
    "    #\"o^3\", \"l^3\", \"T^3\", \n",
    "    \"o^2\", \"o\",\n",
    "    \"l^2\", \"l\",\n",
    "    \"T^2\", \"T\",\n",
    "    \"o^2 l\", \"o l\",\n",
    "    \"o^2 T\", \"o T\",\n",
    "    \"l^2 o\",\n",
    "    \"l^2 T\", \"l T\",\n",
    "    \"T^2 o\",\n",
    "    \"T^2 l\",\n",
    "]\n",
    "Z = np.hstack((\n",
    "    #A1 ** 3, B1 ** 3, C1 ** 3, \n",
    "    A1 ** 2, A1, \n",
    "    B1 ** 2, B1, \n",
    "    C1 ** 2, C1, \n",
    "    A1 ** 2 * B1, A1 * B1, \n",
    "    A1 ** 2 * C1, A1 * C1, \n",
    "    B1 ** 2 * A1,\n",
    "    B1 ** 2 * C1, B1 * C1, \n",
    "    C1 ** 2 * A1,\n",
    "    C1 ** 2 * B1,\n",
    "    np.ones(A1.shape)\n",
    ")).astype(\"f8\")\n",
    "beta = np.linalg.inv(Z.T.dot(Z)).dot(Z.T).dot(T1)\n",
    "var_beta = np.sum((T1 - Z.dot(beta)) ** 2) / (T1.shape[0] - Z.shape[1]) * np.linalg.inv(Z.T.dot(Z))\n",
    "print(\"Regression coefficients:\")\n",
    "print(\"\\n\".join([\n",
    "    \"{0}: {1:.2g} +/- {2:.2g}\".format(n, b, e)\n",
    "    for n, b, e in sorted(zip(names, beta.ravel(), np.diag(var_beta).ravel()), key=lambda r: np.abs(r[1]), reverse=True)\n",
    "    if np.abs(b) - e > 0.01\n",
    "]))\n"
   ]
  },
  {
   "cell_type": "markdown",
   "metadata": {},
   "source": [
    "Therefore, it can be seen that the complexity is\n",
    "$$\n",
    "O\\left(\n",
    "    o ^ 2 + l ^ 2 + T\n",
    "\\right)\n",
    "$$"
   ]
  },
  {
   "cell_type": "markdown",
   "metadata": {},
   "source": [
    "# IV. EM+PSO"
   ]
  },
  {
   "cell_type": "code",
   "execution_count": 14,
   "metadata": {},
   "outputs": [
    {
     "name": "stdout",
     "output_type": "stream",
     "text": [
      "Regression coefficients:\n",
      "o: -0.59 +/- 0.062\n",
      "l: -0.2 +/- 0.074\n",
      "o^2: 0.046 +/- 0.00038\n",
      "l^2: 0.038 +/- 0.00062\n",
      "o l: -0.012 +/- 0.0013\n"
     ]
    }
   ],
   "source": [
    "method = \"EM+PSO\"\n",
    "A = [1, 5, 10, 20, 30]\n",
    "B = [1, 5, 10, 20, 30]\n",
    "C = [10, 20, 50, 100, 500]\n",
    "#C = [10, 20, 50]\n",
    "fname = \"speed_mem_results_em_pso.db\"\n",
    "if os.path.exists(fname):\n",
    "    with open(fname, \"rb\") as f:\n",
    "        R = pickle.load(f)\n",
    "else:\n",
    "    R = test_params(method, obs_dim_range=A, lat_dim_range=B, T_range=C).T\n",
    "    with open(fname, \"wb\") as f:\n",
    "        pickle.dump(R, f)\n",
    "\n",
    "A1, B1, C1, T1, M1 = R\n",
    "A1, B1, C1, T1, M1 = [v.reshape(-1, 1) for v in (A1, B1, C1, T1, M1)]\n",
    "norm = lambda A1: (A1 - A1.mean()) / A1.std()\n",
    "#A1, B1, C1 = norm(A1), norm(B1), norm(C1)\n",
    "\n",
    "names = [\n",
    "    \"o^3\", \"l^3\", \"T^3\", \n",
    "    \"o^2\", \"o\",\n",
    "    \"l^2\", \"l\",\n",
    "    \"T^2\", \"T\",\n",
    "    \"o^2 l\", \"o l\",\n",
    "    \"o^2 T\", \"o T\",\n",
    "    \"l^2 o\",\n",
    "    \"l^2 T\", \"l T\",\n",
    "    \"T^2 o\",\n",
    "    \"T^2 l\",\n",
    "]\n",
    "Z = np.hstack((\n",
    "    A1 ** 3, B1 ** 3, C1 ** 3, \n",
    "    A1 ** 2, A1, \n",
    "    B1 ** 2, B1, \n",
    "    C1 ** 2, C1, \n",
    "    A1 ** 2 * B1, A1 * B1, \n",
    "    A1 ** 2 * C1, A1 * C1, \n",
    "    B1 ** 2 * A1,\n",
    "    B1 ** 2 * C1, B1 * C1, \n",
    "    C1 ** 2 * A1,\n",
    "    C1 ** 2 * B1,\n",
    "    np.ones(A1.shape)\n",
    ")).astype(\"f8\")\n",
    "beta = np.linalg.inv(Z.T.dot(Z)).dot(Z.T).dot(T1)\n",
    "var_beta = np.sum((T1 - Z.dot(beta)) ** 2) / (T1.shape[0] - Z.shape[1]) * np.linalg.inv(Z.T.dot(Z))\n",
    "print(\"Regression coefficients:\")\n",
    "print(\"\\n\".join([\n",
    "    \"{0}: {1:.2g} +/- {2:.2g}\".format(n, b, e)\n",
    "    for n, b, e in sorted(zip(names, beta.ravel(), np.diag(var_beta).ravel()), key=lambda r: np.abs(r[1]), reverse=True)\n",
    "    if np.abs(b) - e > 0.01\n",
    "]))\n"
   ]
  },
  {
   "cell_type": "markdown",
   "metadata": {},
   "source": [
    "Therefore, it can be seen that the complexity is\n",
    "$$\n",
    "O\\left(\n",
    "    o ^ 2 + l ^ 2 + T\n",
    "\\right)\n",
    "$$"
   ]
  },
  {
   "cell_type": "code",
   "execution_count": null,
   "metadata": {},
   "outputs": [],
   "source": []
  },
  {
   "cell_type": "code",
   "execution_count": null,
   "metadata": {},
   "outputs": [],
   "source": []
  },
  {
   "cell_type": "code",
   "execution_count": null,
   "metadata": {},
   "outputs": [],
   "source": []
  }
 ],
 "metadata": {
  "kernelspec": {
   "display_name": "Python 3",
   "language": "python",
   "name": "python3"
  }
 },
 "nbformat": 4,
 "nbformat_minor": 2
}
